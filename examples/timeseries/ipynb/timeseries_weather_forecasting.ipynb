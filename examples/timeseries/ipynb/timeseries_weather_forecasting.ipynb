{
  "cells": [
    {
      "cell_type": "markdown",
      "metadata": {
        "id": "PXoMXNHesQ_y"
      },
      "source": [
        "# Timeseries forecasting for weather prediction\n",
        "\n",
        "\n",
        "**Description:** This notebook demonstrates how to do timeseries forecasting using a LSTM model."
      ]
    },
    {
      "cell_type": "markdown",
      "metadata": {
        "id": "7RM4FgO_sQ_1"
      },
      "source": [
        "## Setup"
      ]
    },
    {
      "cell_type": "code",
      "execution_count": 1,
      "metadata": {
        "id": "tZuk9D3bsQ_2"
      },
      "outputs": [],
      "source": [
        "import pandas as pd\n",
        "import matplotlib.pyplot as plt\n",
        "import keras"
      ]
    },
    {
      "cell_type": "markdown",
      "metadata": {
        "id": "3mrL473AsQ_5"
      },
      "source": [
        "## Climate Data Time-Series\n",
        "\n",
        "We will be using Jena Climate dataset recorded by the\n",
        "[Max Planck Institute for Biogeochemistry](https://www.bgc-jena.mpg.de/wetter/).\n",
        "The dataset consists of 14 features such as temperature, pressure, humidity etc, recorded once per\n",
        "10 minutes.\n",
        "\n",
        "**Location**: Weather Station, Max Planck Institute for Biogeochemistry\n",
        "in Jena, Germany\n",
        "\n",
        "**Time-frame Considered**: Jan 10, 2009 - December 31, 2016\n",
        "\n",
        "\n",
        "The table below shows the column names, their value formats, and their description.\n",
        "\n",
        "Index| Features      |Format             |Description\n",
        "-----|---------------|-------------------|-----------------------\n",
        "1    |Date Time      |01.01.2009 00:10:00|Date-time reference\n",
        "2    |p (mbar)       |996.52             |The pascal SI derived unit of pressure used to quantify internal pressure. Meteorological reports typically state atmospheric pressure in millibars.\n",
        "3    |T (degC)       |-8.02              |Temperature in Celsius\n",
        "4    |Tpot (K)       |265.4              |Temperature in Kelvin\n",
        "5    |Tdew (degC)    |-8.9               |Temperature in Celsius relative to humidity. Dew Point is a measure of the absolute amount of water in the air, the DP is the temperature at which the air cannot hold all the moisture in it and water condenses.\n",
        "6    |rh (%)         |93.3               |Relative Humidity is a measure of how saturated the air is with water vapor, the %RH determines the amount of water contained within collection objects.\n",
        "7    |VPmax (mbar)   |3.33               |Saturation vapor pressure\n",
        "8    |VPact (mbar)   |3.11               |Vapor pressure\n",
        "9    |VPdef (mbar)   |0.22               |Vapor pressure deficit\n",
        "10   |sh (g/kg)      |1.94               |Specific humidity\n",
        "11   |H2OC (mmol/mol)|3.12               |Water vapor concentration\n",
        "12   |rho (g/m ** 3) |1307.75            |Airtight\n",
        "13   |wv (m/s)       |1.03               |Wind speed\n",
        "14   |max. wv (m/s)  |1.75               |Maximum wind speed\n",
        "15   |wd (deg)       |152.3              |Wind direction in degrees"
      ]
    },
    {
      "cell_type": "code",
      "execution_count": 2,
      "metadata": {
        "colab": {
          "base_uri": "https://localhost:8080/"
        },
        "id": "3oDpOYIQsQ_5",
        "outputId": "d0d66ef0-a973-4bc5-c7d1-230b9bbfad3d"
      },
      "outputs": [
        {
          "output_type": "stream",
          "name": "stdout",
          "text": [
            "Downloading data from https://storage.googleapis.com/tensorflow/tf-keras-datasets/jena_climate_2009_2016.csv.zip\n",
            "\u001b[1m13568290/13568290\u001b[0m \u001b[32m━━━━━━━━━━━━━━━━━━━━\u001b[0m\u001b[37m\u001b[0m \u001b[1m0s\u001b[0m 0us/step\n"
          ]
        }
      ],
      "source": [
        "from zipfile import ZipFile\n",
        "\n",
        "uri = \"https://storage.googleapis.com/tensorflow/tf-keras-datasets/jena_climate_2009_2016.csv.zip\"\n",
        "zip_path = keras.utils.get_file(origin=uri, fname=\"jena_climate_2009_2016.csv.zip\")\n",
        "zip_file = ZipFile(zip_path)\n",
        "zip_file.extractall()\n",
        "csv_path = \"jena_climate_2009_2016.csv\"\n",
        "\n",
        "df = pd.read_csv(csv_path)"
      ]
    },
    {
      "cell_type": "markdown",
      "metadata": {
        "id": "Ta5tNQfSsQ_6"
      },
      "source": [
        "## Raw Data Visualization\n",
        "\n",
        "To give us a sense of the data we are working with, each feature has been plotted below.\n",
        "This shows the distinct pattern of each feature over the time period from 2009 to 2016.\n",
        "It also shows where anomalies are present, which will be addressed during normalization."
      ]
    },
    {
      "cell_type": "code",
      "execution_count": 3,
      "metadata": {
        "id": "jL8FM3rWsQ_6"
      },
      "outputs": [],
      "source": [
        "titles = [\n",
        "    \"Pressure\",\n",
        "    \"Temperature\",\n",
        "    \"Temperature in Kelvin\",\n",
        "    \"Temperature (dew point)\",\n",
        "    \"Relative Humidity\",\n",
        "    \"Saturation vapor pressure\",\n",
        "    \"Vapor pressure\",\n",
        "    \"Vapor pressure deficit\",\n",
        "    \"Specific humidity\",\n",
        "    \"Water vapor concentration\",\n",
        "    \"Airtight\",\n",
        "    \"Wind speed\",\n",
        "    \"Maximum wind speed\",\n",
        "    \"Wind direction in degrees\",\n",
        "]\n",
        "\n",
        "feature_keys = [\n",
        "    \"p (mbar)\",\n",
        "    \"T (degC)\",\n",
        "    \"Tpot (K)\",\n",
        "    \"Tdew (degC)\",\n",
        "    \"rh (%)\",\n",
        "    \"VPmax (mbar)\",\n",
        "    \"VPact (mbar)\",\n",
        "    \"VPdef (mbar)\",\n",
        "    \"sh (g/kg)\",\n",
        "    \"H2OC (mmol/mol)\",\n",
        "    \"rho (g/m**3)\",\n",
        "    \"wv (m/s)\",\n",
        "    \"max. wv (m/s)\",\n",
        "    \"wd (deg)\",\n",
        "]\n",
        "\n",
        "colors = [\n",
        "    \"blue\",\n",
        "    \"orange\",\n",
        "    \"green\",\n",
        "    \"red\",\n",
        "    \"purple\",\n",
        "    \"brown\",\n",
        "    \"pink\",\n",
        "    \"gray\",\n",
        "    \"olive\",\n",
        "    \"cyan\",\n",
        "]\n",
        "\n",
        "date_time_key = \"Date Time\"\n",
        "\n",
        "def show_raw_visualization(data):\n",
        "    time_data = data[date_time_key]\n",
        "    fig, axes = plt.subplots(\n",
        "        nrows=7, ncols=2, figsize=(15, 20), dpi=80, facecolor=\"w\", edgecolor=\"k\"\n",
        "    )\n",
        "    for i in range(len(feature_keys)):\n",
        "        key = feature_keys[i]\n",
        "        c = colors[i % (len(colors))]\n",
        "        t_data = data[key]\n",
        "        t_data.index = time_data\n",
        "        ax = t_data.plot(\n",
        "            ax=axes[i // 2, i % 2],\n",
        "            color=c,\n",
        "            title=\"{} - {}\".format(titles[i], key),\n",
        "            rot=25,\n",
        "        )\n",
        "        ax.legend([titles[i]])\n",
        "    plt.tight_layout()\n",
        "\n"
      ]
    },
    {
      "cell_type": "code",
      "source": [
        "show_raw_visualization(df)"
      ],
      "metadata": {
        "id": "uJOm_ujvQNXb"
      },
      "execution_count": null,
      "outputs": []
    },
    {
      "cell_type": "markdown",
      "metadata": {
        "id": "0C5h1Y1wsQ_7"
      },
      "source": [
        "## Data Preprocessing\n",
        "\n",
        "Here we are picking ~300,000 data points for training. Observation is recorded every\n",
        "10 mins, that means 6 times per hour. We will resample one point per hour since no\n",
        "drastic change is expected within 60 minutes. We do this via the `sampling_rate`\n",
        "argument in `timeseries_dataset_from_array` utility.\n",
        "\n",
        "We are tracking data from past 720 timestamps (720/6=120 hours). This data will be\n",
        "used to predict the temperature after 72 timestamps (72/6=12 hours).\n",
        "\n",
        "Since every feature has values with\n",
        "varying ranges, we do normalization to confine feature values to a range of `[0, 1]` before\n",
        "training a neural network.\n",
        "We do this by subtracting the mean and dividing by the standard deviation of each feature.\n",
        "\n",
        "71.5 % of the data will be used to train the model, i.e. 300,693 rows. `split_fraction` can\n",
        "be changed to alter this percentage.\n",
        "\n",
        "The model is shown data for first 5 days i.e. 720 observations, that are sampled every\n",
        "hour. The temperature after 72 (12 hours * 6 observation per hour) observation will be\n",
        "used as a label."
      ]
    },
    {
      "cell_type": "code",
      "source": [
        "df.shape"
      ],
      "metadata": {
        "id": "fnndJ1hTQQcl",
        "outputId": "75068c2c-b411-4c13-b7c0-6a543377520e",
        "colab": {
          "base_uri": "https://localhost:8080/"
        }
      },
      "execution_count": 4,
      "outputs": [
        {
          "output_type": "execute_result",
          "data": {
            "text/plain": [
              "(420551, 15)"
            ]
          },
          "metadata": {},
          "execution_count": 4
        }
      ]
    },
    {
      "cell_type": "code",
      "execution_count": 5,
      "metadata": {
        "id": "t8wECrQfsQ_9"
      },
      "outputs": [],
      "source": [
        "split_fraction = 0.715\n",
        "train_split = int(split_fraction * int(df.shape[0]))\n",
        "step = 6\n",
        "\n",
        "past = 720\n",
        "future = 72\n",
        "learning_rate = 0.001\n",
        "batch_size = 256\n",
        "epochs = 10\n",
        "\n",
        "\n",
        "def normalize(data, train_split):\n",
        "    data_mean = data[:train_split].mean(axis=0)\n",
        "    data_std = data[:train_split].std(axis=0)\n",
        "    return (data - data_mean) / data_std\n"
      ]
    },
    {
      "cell_type": "code",
      "source": [
        "print(train_split)"
      ],
      "metadata": {
        "id": "fhOhSJLuQZzh",
        "outputId": "9b15fb8d-91a0-4cab-8e2a-905b76a7da5a",
        "colab": {
          "base_uri": "https://localhost:8080/"
        }
      },
      "execution_count": 6,
      "outputs": [
        {
          "output_type": "stream",
          "name": "stdout",
          "text": [
            "300693\n"
          ]
        }
      ]
    },
    {
      "cell_type": "code",
      "source": [
        "df.sample(5000).iloc[:, 1:].corr()"
      ],
      "metadata": {
        "id": "fH3bqo3UQheO",
        "outputId": "90712123-3d5f-48f6-e02a-f56e19f6e7bd",
        "colab": {
          "base_uri": "https://localhost:8080/",
          "height": 647
        }
      },
      "execution_count": 12,
      "outputs": [
        {
          "output_type": "execute_result",
          "data": {
            "text/plain": [
              "                 p (mbar)  T (degC)  Tpot (K)  Tdew (degC)    rh (%)  \\\n",
              "p (mbar)         1.000000 -0.044635 -0.123695    -0.063283 -0.015040   \n",
              "T (degC)        -0.044635  1.000000  0.996850     0.895721 -0.587944   \n",
              "Tpot (K)        -0.123695  0.996850  1.000000     0.894703 -0.582885   \n",
              "Tdew (degC)     -0.063283  0.895721  0.894703     1.000000 -0.175593   \n",
              "rh (%)          -0.015040 -0.587944 -0.582885    -0.175593  1.000000   \n",
              "VPmax (mbar)    -0.030009  0.952197  0.948322     0.799780 -0.629522   \n",
              "VPact (mbar)    -0.050053  0.866610  0.864850     0.969860 -0.164514   \n",
              "VPdef (mbar)    -0.004980  0.765354  0.760753     0.439368 -0.849450   \n",
              "sh (g/kg)       -0.065679  0.865739  0.865238     0.969175 -0.163803   \n",
              "H2OC (mmol/mol) -0.065719  0.866167  0.865665     0.969604 -0.163979   \n",
              "rho (g/m**3)     0.305941 -0.963691 -0.981492    -0.884887  0.530550   \n",
              "wv (m/s)        -0.230281  0.095147  0.112941    -0.048259 -0.312100   \n",
              "max. wv (m/s)   -0.224678  0.129373  0.146488    -0.033484 -0.362351   \n",
              "wd (deg)        -0.063330  0.030211  0.035156     0.041741 -0.010083   \n",
              "\n",
              "                 VPmax (mbar)  VPact (mbar)  VPdef (mbar)  sh (g/kg)  \\\n",
              "p (mbar)            -0.030009     -0.050053     -0.004980  -0.065679   \n",
              "T (degC)             0.952197      0.866610      0.765354   0.865739   \n",
              "Tpot (K)             0.948322      0.864850      0.760753   0.865238   \n",
              "Tdew (degC)          0.799780      0.969860      0.439368   0.969175   \n",
              "rh (%)              -0.629522     -0.164514     -0.849450  -0.163803   \n",
              "VPmax (mbar)         1.000000      0.822005      0.877877   0.821606   \n",
              "VPact (mbar)         0.822005      1.000000      0.448903   0.999848   \n",
              "VPdef (mbar)         0.877877      0.448903      1.000000   0.448404   \n",
              "sh (g/kg)            0.821606      0.999848      0.448404   1.000000   \n",
              "H2OC (mmol/mol)      0.821664      0.999852      0.448491   0.999997   \n",
              "rho (g/m**3)        -0.902828     -0.849010     -0.702684  -0.852190   \n",
              "wv (m/s)             0.094006     -0.071400      0.207550  -0.067625   \n",
              "max. wv (m/s)        0.126812     -0.059892      0.249352  -0.056261   \n",
              "wd (deg)            -0.012590      0.014292     -0.031789   0.015324   \n",
              "\n",
              "                 H2OC (mmol/mol)  rho (g/m**3)  wv (m/s)  max. wv (m/s)  \\\n",
              "p (mbar)               -0.065719      0.305941 -0.230281      -0.224678   \n",
              "T (degC)                0.866167     -0.963691  0.095147       0.129373   \n",
              "Tpot (K)                0.865665     -0.981492  0.112941       0.146488   \n",
              "Tdew (degC)             0.969604     -0.884887 -0.048259      -0.033484   \n",
              "rh (%)                 -0.163979      0.530550 -0.312100      -0.362351   \n",
              "VPmax (mbar)            0.821664     -0.902828  0.094006       0.126812   \n",
              "VPact (mbar)            0.999852     -0.849010 -0.071400      -0.059892   \n",
              "VPdef (mbar)            0.448491     -0.702684  0.207550       0.249352   \n",
              "sh (g/kg)               0.999997     -0.852190 -0.067625      -0.056261   \n",
              "H2OC (mmol/mol)         1.000000     -0.852637 -0.067506      -0.056112   \n",
              "rho (g/m**3)           -0.852637      1.000000 -0.142792      -0.173102   \n",
              "wv (m/s)               -0.067506     -0.142792  1.000000       0.957923   \n",
              "max. wv (m/s)          -0.056112     -0.173102  0.957923       1.000000   \n",
              "wd (deg)                0.015536     -0.049318 -0.047882       0.006991   \n",
              "\n",
              "                 wd (deg)  \n",
              "p (mbar)        -0.063330  \n",
              "T (degC)         0.030211  \n",
              "Tpot (K)         0.035156  \n",
              "Tdew (degC)      0.041741  \n",
              "rh (%)          -0.010083  \n",
              "VPmax (mbar)    -0.012590  \n",
              "VPact (mbar)     0.014292  \n",
              "VPdef (mbar)    -0.031789  \n",
              "sh (g/kg)        0.015324  \n",
              "H2OC (mmol/mol)  0.015536  \n",
              "rho (g/m**3)    -0.049318  \n",
              "wv (m/s)        -0.047882  \n",
              "max. wv (m/s)    0.006991  \n",
              "wd (deg)         1.000000  "
            ],
            "text/html": [
              "\n",
              "  <div id=\"df-ac29b609-04a0-4c42-84dc-7f80599d0515\" class=\"colab-df-container\">\n",
              "    <div>\n",
              "<style scoped>\n",
              "    .dataframe tbody tr th:only-of-type {\n",
              "        vertical-align: middle;\n",
              "    }\n",
              "\n",
              "    .dataframe tbody tr th {\n",
              "        vertical-align: top;\n",
              "    }\n",
              "\n",
              "    .dataframe thead th {\n",
              "        text-align: right;\n",
              "    }\n",
              "</style>\n",
              "<table border=\"1\" class=\"dataframe\">\n",
              "  <thead>\n",
              "    <tr style=\"text-align: right;\">\n",
              "      <th></th>\n",
              "      <th>p (mbar)</th>\n",
              "      <th>T (degC)</th>\n",
              "      <th>Tpot (K)</th>\n",
              "      <th>Tdew (degC)</th>\n",
              "      <th>rh (%)</th>\n",
              "      <th>VPmax (mbar)</th>\n",
              "      <th>VPact (mbar)</th>\n",
              "      <th>VPdef (mbar)</th>\n",
              "      <th>sh (g/kg)</th>\n",
              "      <th>H2OC (mmol/mol)</th>\n",
              "      <th>rho (g/m**3)</th>\n",
              "      <th>wv (m/s)</th>\n",
              "      <th>max. wv (m/s)</th>\n",
              "      <th>wd (deg)</th>\n",
              "    </tr>\n",
              "  </thead>\n",
              "  <tbody>\n",
              "    <tr>\n",
              "      <th>p (mbar)</th>\n",
              "      <td>1.000000</td>\n",
              "      <td>-0.044635</td>\n",
              "      <td>-0.123695</td>\n",
              "      <td>-0.063283</td>\n",
              "      <td>-0.015040</td>\n",
              "      <td>-0.030009</td>\n",
              "      <td>-0.050053</td>\n",
              "      <td>-0.004980</td>\n",
              "      <td>-0.065679</td>\n",
              "      <td>-0.065719</td>\n",
              "      <td>0.305941</td>\n",
              "      <td>-0.230281</td>\n",
              "      <td>-0.224678</td>\n",
              "      <td>-0.063330</td>\n",
              "    </tr>\n",
              "    <tr>\n",
              "      <th>T (degC)</th>\n",
              "      <td>-0.044635</td>\n",
              "      <td>1.000000</td>\n",
              "      <td>0.996850</td>\n",
              "      <td>0.895721</td>\n",
              "      <td>-0.587944</td>\n",
              "      <td>0.952197</td>\n",
              "      <td>0.866610</td>\n",
              "      <td>0.765354</td>\n",
              "      <td>0.865739</td>\n",
              "      <td>0.866167</td>\n",
              "      <td>-0.963691</td>\n",
              "      <td>0.095147</td>\n",
              "      <td>0.129373</td>\n",
              "      <td>0.030211</td>\n",
              "    </tr>\n",
              "    <tr>\n",
              "      <th>Tpot (K)</th>\n",
              "      <td>-0.123695</td>\n",
              "      <td>0.996850</td>\n",
              "      <td>1.000000</td>\n",
              "      <td>0.894703</td>\n",
              "      <td>-0.582885</td>\n",
              "      <td>0.948322</td>\n",
              "      <td>0.864850</td>\n",
              "      <td>0.760753</td>\n",
              "      <td>0.865238</td>\n",
              "      <td>0.865665</td>\n",
              "      <td>-0.981492</td>\n",
              "      <td>0.112941</td>\n",
              "      <td>0.146488</td>\n",
              "      <td>0.035156</td>\n",
              "    </tr>\n",
              "    <tr>\n",
              "      <th>Tdew (degC)</th>\n",
              "      <td>-0.063283</td>\n",
              "      <td>0.895721</td>\n",
              "      <td>0.894703</td>\n",
              "      <td>1.000000</td>\n",
              "      <td>-0.175593</td>\n",
              "      <td>0.799780</td>\n",
              "      <td>0.969860</td>\n",
              "      <td>0.439368</td>\n",
              "      <td>0.969175</td>\n",
              "      <td>0.969604</td>\n",
              "      <td>-0.884887</td>\n",
              "      <td>-0.048259</td>\n",
              "      <td>-0.033484</td>\n",
              "      <td>0.041741</td>\n",
              "    </tr>\n",
              "    <tr>\n",
              "      <th>rh (%)</th>\n",
              "      <td>-0.015040</td>\n",
              "      <td>-0.587944</td>\n",
              "      <td>-0.582885</td>\n",
              "      <td>-0.175593</td>\n",
              "      <td>1.000000</td>\n",
              "      <td>-0.629522</td>\n",
              "      <td>-0.164514</td>\n",
              "      <td>-0.849450</td>\n",
              "      <td>-0.163803</td>\n",
              "      <td>-0.163979</td>\n",
              "      <td>0.530550</td>\n",
              "      <td>-0.312100</td>\n",
              "      <td>-0.362351</td>\n",
              "      <td>-0.010083</td>\n",
              "    </tr>\n",
              "    <tr>\n",
              "      <th>VPmax (mbar)</th>\n",
              "      <td>-0.030009</td>\n",
              "      <td>0.952197</td>\n",
              "      <td>0.948322</td>\n",
              "      <td>0.799780</td>\n",
              "      <td>-0.629522</td>\n",
              "      <td>1.000000</td>\n",
              "      <td>0.822005</td>\n",
              "      <td>0.877877</td>\n",
              "      <td>0.821606</td>\n",
              "      <td>0.821664</td>\n",
              "      <td>-0.902828</td>\n",
              "      <td>0.094006</td>\n",
              "      <td>0.126812</td>\n",
              "      <td>-0.012590</td>\n",
              "    </tr>\n",
              "    <tr>\n",
              "      <th>VPact (mbar)</th>\n",
              "      <td>-0.050053</td>\n",
              "      <td>0.866610</td>\n",
              "      <td>0.864850</td>\n",
              "      <td>0.969860</td>\n",
              "      <td>-0.164514</td>\n",
              "      <td>0.822005</td>\n",
              "      <td>1.000000</td>\n",
              "      <td>0.448903</td>\n",
              "      <td>0.999848</td>\n",
              "      <td>0.999852</td>\n",
              "      <td>-0.849010</td>\n",
              "      <td>-0.071400</td>\n",
              "      <td>-0.059892</td>\n",
              "      <td>0.014292</td>\n",
              "    </tr>\n",
              "    <tr>\n",
              "      <th>VPdef (mbar)</th>\n",
              "      <td>-0.004980</td>\n",
              "      <td>0.765354</td>\n",
              "      <td>0.760753</td>\n",
              "      <td>0.439368</td>\n",
              "      <td>-0.849450</td>\n",
              "      <td>0.877877</td>\n",
              "      <td>0.448903</td>\n",
              "      <td>1.000000</td>\n",
              "      <td>0.448404</td>\n",
              "      <td>0.448491</td>\n",
              "      <td>-0.702684</td>\n",
              "      <td>0.207550</td>\n",
              "      <td>0.249352</td>\n",
              "      <td>-0.031789</td>\n",
              "    </tr>\n",
              "    <tr>\n",
              "      <th>sh (g/kg)</th>\n",
              "      <td>-0.065679</td>\n",
              "      <td>0.865739</td>\n",
              "      <td>0.865238</td>\n",
              "      <td>0.969175</td>\n",
              "      <td>-0.163803</td>\n",
              "      <td>0.821606</td>\n",
              "      <td>0.999848</td>\n",
              "      <td>0.448404</td>\n",
              "      <td>1.000000</td>\n",
              "      <td>0.999997</td>\n",
              "      <td>-0.852190</td>\n",
              "      <td>-0.067625</td>\n",
              "      <td>-0.056261</td>\n",
              "      <td>0.015324</td>\n",
              "    </tr>\n",
              "    <tr>\n",
              "      <th>H2OC (mmol/mol)</th>\n",
              "      <td>-0.065719</td>\n",
              "      <td>0.866167</td>\n",
              "      <td>0.865665</td>\n",
              "      <td>0.969604</td>\n",
              "      <td>-0.163979</td>\n",
              "      <td>0.821664</td>\n",
              "      <td>0.999852</td>\n",
              "      <td>0.448491</td>\n",
              "      <td>0.999997</td>\n",
              "      <td>1.000000</td>\n",
              "      <td>-0.852637</td>\n",
              "      <td>-0.067506</td>\n",
              "      <td>-0.056112</td>\n",
              "      <td>0.015536</td>\n",
              "    </tr>\n",
              "    <tr>\n",
              "      <th>rho (g/m**3)</th>\n",
              "      <td>0.305941</td>\n",
              "      <td>-0.963691</td>\n",
              "      <td>-0.981492</td>\n",
              "      <td>-0.884887</td>\n",
              "      <td>0.530550</td>\n",
              "      <td>-0.902828</td>\n",
              "      <td>-0.849010</td>\n",
              "      <td>-0.702684</td>\n",
              "      <td>-0.852190</td>\n",
              "      <td>-0.852637</td>\n",
              "      <td>1.000000</td>\n",
              "      <td>-0.142792</td>\n",
              "      <td>-0.173102</td>\n",
              "      <td>-0.049318</td>\n",
              "    </tr>\n",
              "    <tr>\n",
              "      <th>wv (m/s)</th>\n",
              "      <td>-0.230281</td>\n",
              "      <td>0.095147</td>\n",
              "      <td>0.112941</td>\n",
              "      <td>-0.048259</td>\n",
              "      <td>-0.312100</td>\n",
              "      <td>0.094006</td>\n",
              "      <td>-0.071400</td>\n",
              "      <td>0.207550</td>\n",
              "      <td>-0.067625</td>\n",
              "      <td>-0.067506</td>\n",
              "      <td>-0.142792</td>\n",
              "      <td>1.000000</td>\n",
              "      <td>0.957923</td>\n",
              "      <td>-0.047882</td>\n",
              "    </tr>\n",
              "    <tr>\n",
              "      <th>max. wv (m/s)</th>\n",
              "      <td>-0.224678</td>\n",
              "      <td>0.129373</td>\n",
              "      <td>0.146488</td>\n",
              "      <td>-0.033484</td>\n",
              "      <td>-0.362351</td>\n",
              "      <td>0.126812</td>\n",
              "      <td>-0.059892</td>\n",
              "      <td>0.249352</td>\n",
              "      <td>-0.056261</td>\n",
              "      <td>-0.056112</td>\n",
              "      <td>-0.173102</td>\n",
              "      <td>0.957923</td>\n",
              "      <td>1.000000</td>\n",
              "      <td>0.006991</td>\n",
              "    </tr>\n",
              "    <tr>\n",
              "      <th>wd (deg)</th>\n",
              "      <td>-0.063330</td>\n",
              "      <td>0.030211</td>\n",
              "      <td>0.035156</td>\n",
              "      <td>0.041741</td>\n",
              "      <td>-0.010083</td>\n",
              "      <td>-0.012590</td>\n",
              "      <td>0.014292</td>\n",
              "      <td>-0.031789</td>\n",
              "      <td>0.015324</td>\n",
              "      <td>0.015536</td>\n",
              "      <td>-0.049318</td>\n",
              "      <td>-0.047882</td>\n",
              "      <td>0.006991</td>\n",
              "      <td>1.000000</td>\n",
              "    </tr>\n",
              "  </tbody>\n",
              "</table>\n",
              "</div>\n",
              "    <div class=\"colab-df-buttons\">\n",
              "\n",
              "  <div class=\"colab-df-container\">\n",
              "    <button class=\"colab-df-convert\" onclick=\"convertToInteractive('df-ac29b609-04a0-4c42-84dc-7f80599d0515')\"\n",
              "            title=\"Convert this dataframe to an interactive table.\"\n",
              "            style=\"display:none;\">\n",
              "\n",
              "  <svg xmlns=\"http://www.w3.org/2000/svg\" height=\"24px\" viewBox=\"0 -960 960 960\">\n",
              "    <path d=\"M120-120v-720h720v720H120Zm60-500h600v-160H180v160Zm220 220h160v-160H400v160Zm0 220h160v-160H400v160ZM180-400h160v-160H180v160Zm440 0h160v-160H620v160ZM180-180h160v-160H180v160Zm440 0h160v-160H620v160Z\"/>\n",
              "  </svg>\n",
              "    </button>\n",
              "\n",
              "  <style>\n",
              "    .colab-df-container {\n",
              "      display:flex;\n",
              "      gap: 12px;\n",
              "    }\n",
              "\n",
              "    .colab-df-convert {\n",
              "      background-color: #E8F0FE;\n",
              "      border: none;\n",
              "      border-radius: 50%;\n",
              "      cursor: pointer;\n",
              "      display: none;\n",
              "      fill: #1967D2;\n",
              "      height: 32px;\n",
              "      padding: 0 0 0 0;\n",
              "      width: 32px;\n",
              "    }\n",
              "\n",
              "    .colab-df-convert:hover {\n",
              "      background-color: #E2EBFA;\n",
              "      box-shadow: 0px 1px 2px rgba(60, 64, 67, 0.3), 0px 1px 3px 1px rgba(60, 64, 67, 0.15);\n",
              "      fill: #174EA6;\n",
              "    }\n",
              "\n",
              "    .colab-df-buttons div {\n",
              "      margin-bottom: 4px;\n",
              "    }\n",
              "\n",
              "    [theme=dark] .colab-df-convert {\n",
              "      background-color: #3B4455;\n",
              "      fill: #D2E3FC;\n",
              "    }\n",
              "\n",
              "    [theme=dark] .colab-df-convert:hover {\n",
              "      background-color: #434B5C;\n",
              "      box-shadow: 0px 1px 3px 1px rgba(0, 0, 0, 0.15);\n",
              "      filter: drop-shadow(0px 1px 2px rgba(0, 0, 0, 0.3));\n",
              "      fill: #FFFFFF;\n",
              "    }\n",
              "  </style>\n",
              "\n",
              "    <script>\n",
              "      const buttonEl =\n",
              "        document.querySelector('#df-ac29b609-04a0-4c42-84dc-7f80599d0515 button.colab-df-convert');\n",
              "      buttonEl.style.display =\n",
              "        google.colab.kernel.accessAllowed ? 'block' : 'none';\n",
              "\n",
              "      async function convertToInteractive(key) {\n",
              "        const element = document.querySelector('#df-ac29b609-04a0-4c42-84dc-7f80599d0515');\n",
              "        const dataTable =\n",
              "          await google.colab.kernel.invokeFunction('convertToInteractive',\n",
              "                                                    [key], {});\n",
              "        if (!dataTable) return;\n",
              "\n",
              "        const docLinkHtml = 'Like what you see? Visit the ' +\n",
              "          '<a target=\"_blank\" href=https://colab.research.google.com/notebooks/data_table.ipynb>data table notebook</a>'\n",
              "          + ' to learn more about interactive tables.';\n",
              "        element.innerHTML = '';\n",
              "        dataTable['output_type'] = 'display_data';\n",
              "        await google.colab.output.renderOutput(dataTable, element);\n",
              "        const docLink = document.createElement('div');\n",
              "        docLink.innerHTML = docLinkHtml;\n",
              "        element.appendChild(docLink);\n",
              "      }\n",
              "    </script>\n",
              "  </div>\n",
              "\n",
              "\n",
              "    <div id=\"df-31d96dee-f5a3-428f-b174-dc7906c1b1c2\">\n",
              "      <button class=\"colab-df-quickchart\" onclick=\"quickchart('df-31d96dee-f5a3-428f-b174-dc7906c1b1c2')\"\n",
              "                title=\"Suggest charts\"\n",
              "                style=\"display:none;\">\n",
              "\n",
              "<svg xmlns=\"http://www.w3.org/2000/svg\" height=\"24px\"viewBox=\"0 0 24 24\"\n",
              "     width=\"24px\">\n",
              "    <g>\n",
              "        <path d=\"M19 3H5c-1.1 0-2 .9-2 2v14c0 1.1.9 2 2 2h14c1.1 0 2-.9 2-2V5c0-1.1-.9-2-2-2zM9 17H7v-7h2v7zm4 0h-2V7h2v10zm4 0h-2v-4h2v4z\"/>\n",
              "    </g>\n",
              "</svg>\n",
              "      </button>\n",
              "\n",
              "<style>\n",
              "  .colab-df-quickchart {\n",
              "      --bg-color: #E8F0FE;\n",
              "      --fill-color: #1967D2;\n",
              "      --hover-bg-color: #E2EBFA;\n",
              "      --hover-fill-color: #174EA6;\n",
              "      --disabled-fill-color: #AAA;\n",
              "      --disabled-bg-color: #DDD;\n",
              "  }\n",
              "\n",
              "  [theme=dark] .colab-df-quickchart {\n",
              "      --bg-color: #3B4455;\n",
              "      --fill-color: #D2E3FC;\n",
              "      --hover-bg-color: #434B5C;\n",
              "      --hover-fill-color: #FFFFFF;\n",
              "      --disabled-bg-color: #3B4455;\n",
              "      --disabled-fill-color: #666;\n",
              "  }\n",
              "\n",
              "  .colab-df-quickchart {\n",
              "    background-color: var(--bg-color);\n",
              "    border: none;\n",
              "    border-radius: 50%;\n",
              "    cursor: pointer;\n",
              "    display: none;\n",
              "    fill: var(--fill-color);\n",
              "    height: 32px;\n",
              "    padding: 0;\n",
              "    width: 32px;\n",
              "  }\n",
              "\n",
              "  .colab-df-quickchart:hover {\n",
              "    background-color: var(--hover-bg-color);\n",
              "    box-shadow: 0 1px 2px rgba(60, 64, 67, 0.3), 0 1px 3px 1px rgba(60, 64, 67, 0.15);\n",
              "    fill: var(--button-hover-fill-color);\n",
              "  }\n",
              "\n",
              "  .colab-df-quickchart-complete:disabled,\n",
              "  .colab-df-quickchart-complete:disabled:hover {\n",
              "    background-color: var(--disabled-bg-color);\n",
              "    fill: var(--disabled-fill-color);\n",
              "    box-shadow: none;\n",
              "  }\n",
              "\n",
              "  .colab-df-spinner {\n",
              "    border: 2px solid var(--fill-color);\n",
              "    border-color: transparent;\n",
              "    border-bottom-color: var(--fill-color);\n",
              "    animation:\n",
              "      spin 1s steps(1) infinite;\n",
              "  }\n",
              "\n",
              "  @keyframes spin {\n",
              "    0% {\n",
              "      border-color: transparent;\n",
              "      border-bottom-color: var(--fill-color);\n",
              "      border-left-color: var(--fill-color);\n",
              "    }\n",
              "    20% {\n",
              "      border-color: transparent;\n",
              "      border-left-color: var(--fill-color);\n",
              "      border-top-color: var(--fill-color);\n",
              "    }\n",
              "    30% {\n",
              "      border-color: transparent;\n",
              "      border-left-color: var(--fill-color);\n",
              "      border-top-color: var(--fill-color);\n",
              "      border-right-color: var(--fill-color);\n",
              "    }\n",
              "    40% {\n",
              "      border-color: transparent;\n",
              "      border-right-color: var(--fill-color);\n",
              "      border-top-color: var(--fill-color);\n",
              "    }\n",
              "    60% {\n",
              "      border-color: transparent;\n",
              "      border-right-color: var(--fill-color);\n",
              "    }\n",
              "    80% {\n",
              "      border-color: transparent;\n",
              "      border-right-color: var(--fill-color);\n",
              "      border-bottom-color: var(--fill-color);\n",
              "    }\n",
              "    90% {\n",
              "      border-color: transparent;\n",
              "      border-bottom-color: var(--fill-color);\n",
              "    }\n",
              "  }\n",
              "</style>\n",
              "\n",
              "      <script>\n",
              "        async function quickchart(key) {\n",
              "          const quickchartButtonEl =\n",
              "            document.querySelector('#' + key + ' button');\n",
              "          quickchartButtonEl.disabled = true;  // To prevent multiple clicks.\n",
              "          quickchartButtonEl.classList.add('colab-df-spinner');\n",
              "          try {\n",
              "            const charts = await google.colab.kernel.invokeFunction(\n",
              "                'suggestCharts', [key], {});\n",
              "          } catch (error) {\n",
              "            console.error('Error during call to suggestCharts:', error);\n",
              "          }\n",
              "          quickchartButtonEl.classList.remove('colab-df-spinner');\n",
              "          quickchartButtonEl.classList.add('colab-df-quickchart-complete');\n",
              "        }\n",
              "        (() => {\n",
              "          let quickchartButtonEl =\n",
              "            document.querySelector('#df-31d96dee-f5a3-428f-b174-dc7906c1b1c2 button');\n",
              "          quickchartButtonEl.style.display =\n",
              "            google.colab.kernel.accessAllowed ? 'block' : 'none';\n",
              "        })();\n",
              "      </script>\n",
              "    </div>\n",
              "\n",
              "    </div>\n",
              "  </div>\n"
            ],
            "application/vnd.google.colaboratory.intrinsic+json": {
              "type": "dataframe",
              "summary": "{\n  \"name\": \"df\",\n  \"rows\": 14,\n  \"fields\": [\n    {\n      \"column\": \"p (mbar)\",\n      \"properties\": {\n        \"dtype\": \"number\",\n        \"std\": 0.30724364543830834,\n        \"min\": -0.2302810911659957,\n        \"max\": 1.0,\n        \"num_unique_values\": 14,\n        \"samples\": [\n          -0.06571931233447101,\n          -0.2302810911659957,\n          1.0\n        ],\n        \"semantic_type\": \"\",\n        \"description\": \"\"\n      }\n    },\n    {\n      \"column\": \"T (degC)\",\n      \"properties\": {\n        \"dtype\": \"number\",\n        \"std\": 0.6435199580049444,\n        \"min\": -0.9636914228515003,\n        \"max\": 1.0,\n        \"num_unique_values\": 14,\n        \"samples\": [\n          0.8661666434598758,\n          0.09514737114737258,\n          -0.04463522117363044\n        ],\n        \"semantic_type\": \"\",\n        \"description\": \"\"\n      }\n    },\n    {\n      \"column\": \"Tpot (K)\",\n      \"properties\": {\n        \"dtype\": \"number\",\n        \"std\": 0.6484784847960289,\n        \"min\": -0.9814917458774347,\n        \"max\": 1.0,\n        \"num_unique_values\": 14,\n        \"samples\": [\n          0.8656654492192047,\n          0.1129408991123508,\n          -0.12369473298721097\n        ],\n        \"semantic_type\": \"\",\n        \"description\": \"\"\n      }\n    },\n    {\n      \"column\": \"Tdew (degC)\",\n      \"properties\": {\n        \"dtype\": \"number\",\n        \"std\": 0.601081386431411,\n        \"min\": -0.8848865960619395,\n        \"max\": 1.0,\n        \"num_unique_values\": 14,\n        \"samples\": [\n          0.969603503323288,\n          -0.048258813678237734,\n          -0.06328265647506426\n        ],\n        \"semantic_type\": \"\",\n        \"description\": \"\"\n      }\n    },\n    {\n      \"column\": \"rh (%)\",\n      \"properties\": {\n        \"dtype\": \"number\",\n        \"std\": 0.47908029744490255,\n        \"min\": -0.8494495298970705,\n        \"max\": 1.0,\n        \"num_unique_values\": 14,\n        \"samples\": [\n          -0.16397887645051784,\n          -0.3121004073750723,\n          -0.01504047517197448\n        ],\n        \"semantic_type\": \"\",\n        \"description\": \"\"\n      }\n    },\n    {\n      \"column\": \"VPmax (mbar)\",\n      \"properties\": {\n        \"dtype\": \"number\",\n        \"std\": 0.630477011938947,\n        \"min\": -0.9028277450205283,\n        \"max\": 1.0,\n        \"num_unique_values\": 14,\n        \"samples\": [\n          0.8216640489793284,\n          0.09400586025405014,\n          -0.030008723483260554\n        ],\n        \"semantic_type\": \"\",\n        \"description\": \"\"\n      }\n    },\n    {\n      \"column\": \"VPact (mbar)\",\n      \"properties\": {\n        \"dtype\": \"number\",\n        \"std\": 0.5999869316737573,\n        \"min\": -0.8490103089473588,\n        \"max\": 1.0,\n        \"num_unique_values\": 14,\n        \"samples\": [\n          0.9998521578828844,\n          -0.0714004367131594,\n          -0.050053407786833405\n        ],\n        \"semantic_type\": \"\",\n        \"description\": \"\"\n      }\n    },\n    {\n      \"column\": \"VPdef (mbar)\",\n      \"properties\": {\n        \"dtype\": \"number\",\n        \"std\": 0.5461626965922203,\n        \"min\": -0.8494495298970705,\n        \"max\": 1.0,\n        \"num_unique_values\": 14,\n        \"samples\": [\n          0.44849145320080314,\n          0.20755021365148907,\n          -0.004980335143615981\n        ],\n        \"semantic_type\": \"\",\n        \"description\": \"\"\n      }\n    },\n    {\n      \"column\": \"sh (g/kg)\",\n      \"properties\": {\n        \"dtype\": \"number\",\n        \"std\": 0.6007978247671079,\n        \"min\": -0.8521900928679779,\n        \"max\": 1.0,\n        \"num_unique_values\": 14,\n        \"samples\": [\n          0.9999973418501935,\n          -0.06762547751842138,\n          -0.06567928385684303\n        ],\n        \"semantic_type\": \"\",\n        \"description\": \"\"\n      }\n    },\n    {\n      \"column\": \"H2OC (mmol/mol)\",\n      \"properties\": {\n        \"dtype\": \"number\",\n        \"std\": 0.6009423944194733,\n        \"min\": -0.8526365476847817,\n        \"max\": 1.0,\n        \"num_unique_values\": 14,\n        \"samples\": [\n          1.0,\n          -0.06750618638738108,\n          -0.06571931233447101\n        ],\n        \"semantic_type\": \"\",\n        \"description\": \"\"\n      }\n    },\n    {\n      \"column\": \"rho (g/m**3)\",\n      \"properties\": {\n        \"dtype\": \"number\",\n        \"std\": 0.6451492001696209,\n        \"min\": -0.9814917458774347,\n        \"max\": 1.0,\n        \"num_unique_values\": 14,\n        \"samples\": [\n          -0.8526365476847817,\n          -0.14279228763364532,\n          0.3059405544040991\n        ],\n        \"semantic_type\": \"\",\n        \"description\": \"\"\n      }\n    },\n    {\n      \"column\": \"wv (m/s)\",\n      \"properties\": {\n        \"dtype\": \"number\",\n        \"std\": 0.39463874225786866,\n        \"min\": -0.3121004073750723,\n        \"max\": 1.0,\n        \"num_unique_values\": 14,\n        \"samples\": [\n          -0.06750618638738108,\n          1.0,\n          -0.2302810911659957\n        ],\n        \"semantic_type\": \"\",\n        \"description\": \"\"\n      }\n    },\n    {\n      \"column\": \"max. wv (m/s)\",\n      \"properties\": {\n        \"dtype\": \"number\",\n        \"std\": 0.3982818290923797,\n        \"min\": -0.3623511623858806,\n        \"max\": 1.0,\n        \"num_unique_values\": 14,\n        \"samples\": [\n          -0.056112429591801814,\n          0.9579227816849187,\n          -0.22467751400934602\n        ],\n        \"semantic_type\": \"\",\n        \"description\": \"\"\n      }\n    },\n    {\n      \"column\": \"wd (deg)\",\n      \"properties\": {\n        \"dtype\": \"number\",\n        \"std\": 0.2704610271605496,\n        \"min\": -0.0633295962418643,\n        \"max\": 1.0,\n        \"num_unique_values\": 14,\n        \"samples\": [\n          0.015535703790522944,\n          -0.04788234502557723,\n          -0.0633295962418643\n        ],\n        \"semantic_type\": \"\",\n        \"description\": \"\"\n      }\n    }\n  ]\n}"
            }
          },
          "metadata": {},
          "execution_count": 12
        }
      ]
    },
    {
      "cell_type": "markdown",
      "metadata": {
        "id": "y94JwmqssQ_-"
      },
      "source": [
        "We can see from the correlation heatmap, few parameters like Relative Humidity and\n",
        "Specific Humidity are redundant. Hence we will be using select features, not all."
      ]
    },
    {
      "cell_type": "code",
      "execution_count": 13,
      "metadata": {
        "colab": {
          "base_uri": "https://localhost:8080/",
          "height": 244
        },
        "id": "1BBbdC-LsQ_-",
        "outputId": "978af40e-e41e-46a5-ad61-1a09b02dbab6"
      },
      "outputs": [
        {
          "output_type": "stream",
          "name": "stdout",
          "text": [
            "The selected parameters are: Pressure, Temperature, Saturation vapor pressure, Vapor pressure deficit, Specific humidity, Airtight, Wind speed\n"
          ]
        },
        {
          "output_type": "execute_result",
          "data": {
            "text/plain": [
              "          0         1         2         3         4         5         6\n",
              "0  0.955451 -2.000020 -1.319782 -0.788479 -1.500927  2.237658 -0.732997\n",
              "1  0.961528 -2.045185 -1.332806 -0.790561 -1.519521  2.287838 -0.936002\n",
              "2  0.956666 -2.056766 -1.335410 -0.792642 -1.523239  2.298608 -1.283076\n",
              "3  0.954236 -2.033604 -1.328898 -0.794724 -1.508364  2.272906 -1.184847\n",
              "4  0.954236 -2.028972 -1.327596 -0.794724 -1.508364  2.268256 -1.197944"
            ],
            "text/html": [
              "\n",
              "  <div id=\"df-0b8b4bf0-4fc5-46cb-8797-f678a10a3551\" class=\"colab-df-container\">\n",
              "    <div>\n",
              "<style scoped>\n",
              "    .dataframe tbody tr th:only-of-type {\n",
              "        vertical-align: middle;\n",
              "    }\n",
              "\n",
              "    .dataframe tbody tr th {\n",
              "        vertical-align: top;\n",
              "    }\n",
              "\n",
              "    .dataframe thead th {\n",
              "        text-align: right;\n",
              "    }\n",
              "</style>\n",
              "<table border=\"1\" class=\"dataframe\">\n",
              "  <thead>\n",
              "    <tr style=\"text-align: right;\">\n",
              "      <th></th>\n",
              "      <th>0</th>\n",
              "      <th>1</th>\n",
              "      <th>2</th>\n",
              "      <th>3</th>\n",
              "      <th>4</th>\n",
              "      <th>5</th>\n",
              "      <th>6</th>\n",
              "    </tr>\n",
              "  </thead>\n",
              "  <tbody>\n",
              "    <tr>\n",
              "      <th>0</th>\n",
              "      <td>0.955451</td>\n",
              "      <td>-2.000020</td>\n",
              "      <td>-1.319782</td>\n",
              "      <td>-0.788479</td>\n",
              "      <td>-1.500927</td>\n",
              "      <td>2.237658</td>\n",
              "      <td>-0.732997</td>\n",
              "    </tr>\n",
              "    <tr>\n",
              "      <th>1</th>\n",
              "      <td>0.961528</td>\n",
              "      <td>-2.045185</td>\n",
              "      <td>-1.332806</td>\n",
              "      <td>-0.790561</td>\n",
              "      <td>-1.519521</td>\n",
              "      <td>2.287838</td>\n",
              "      <td>-0.936002</td>\n",
              "    </tr>\n",
              "    <tr>\n",
              "      <th>2</th>\n",
              "      <td>0.956666</td>\n",
              "      <td>-2.056766</td>\n",
              "      <td>-1.335410</td>\n",
              "      <td>-0.792642</td>\n",
              "      <td>-1.523239</td>\n",
              "      <td>2.298608</td>\n",
              "      <td>-1.283076</td>\n",
              "    </tr>\n",
              "    <tr>\n",
              "      <th>3</th>\n",
              "      <td>0.954236</td>\n",
              "      <td>-2.033604</td>\n",
              "      <td>-1.328898</td>\n",
              "      <td>-0.794724</td>\n",
              "      <td>-1.508364</td>\n",
              "      <td>2.272906</td>\n",
              "      <td>-1.184847</td>\n",
              "    </tr>\n",
              "    <tr>\n",
              "      <th>4</th>\n",
              "      <td>0.954236</td>\n",
              "      <td>-2.028972</td>\n",
              "      <td>-1.327596</td>\n",
              "      <td>-0.794724</td>\n",
              "      <td>-1.508364</td>\n",
              "      <td>2.268256</td>\n",
              "      <td>-1.197944</td>\n",
              "    </tr>\n",
              "  </tbody>\n",
              "</table>\n",
              "</div>\n",
              "    <div class=\"colab-df-buttons\">\n",
              "\n",
              "  <div class=\"colab-df-container\">\n",
              "    <button class=\"colab-df-convert\" onclick=\"convertToInteractive('df-0b8b4bf0-4fc5-46cb-8797-f678a10a3551')\"\n",
              "            title=\"Convert this dataframe to an interactive table.\"\n",
              "            style=\"display:none;\">\n",
              "\n",
              "  <svg xmlns=\"http://www.w3.org/2000/svg\" height=\"24px\" viewBox=\"0 -960 960 960\">\n",
              "    <path d=\"M120-120v-720h720v720H120Zm60-500h600v-160H180v160Zm220 220h160v-160H400v160Zm0 220h160v-160H400v160ZM180-400h160v-160H180v160Zm440 0h160v-160H620v160ZM180-180h160v-160H180v160Zm440 0h160v-160H620v160Z\"/>\n",
              "  </svg>\n",
              "    </button>\n",
              "\n",
              "  <style>\n",
              "    .colab-df-container {\n",
              "      display:flex;\n",
              "      gap: 12px;\n",
              "    }\n",
              "\n",
              "    .colab-df-convert {\n",
              "      background-color: #E8F0FE;\n",
              "      border: none;\n",
              "      border-radius: 50%;\n",
              "      cursor: pointer;\n",
              "      display: none;\n",
              "      fill: #1967D2;\n",
              "      height: 32px;\n",
              "      padding: 0 0 0 0;\n",
              "      width: 32px;\n",
              "    }\n",
              "\n",
              "    .colab-df-convert:hover {\n",
              "      background-color: #E2EBFA;\n",
              "      box-shadow: 0px 1px 2px rgba(60, 64, 67, 0.3), 0px 1px 3px 1px rgba(60, 64, 67, 0.15);\n",
              "      fill: #174EA6;\n",
              "    }\n",
              "\n",
              "    .colab-df-buttons div {\n",
              "      margin-bottom: 4px;\n",
              "    }\n",
              "\n",
              "    [theme=dark] .colab-df-convert {\n",
              "      background-color: #3B4455;\n",
              "      fill: #D2E3FC;\n",
              "    }\n",
              "\n",
              "    [theme=dark] .colab-df-convert:hover {\n",
              "      background-color: #434B5C;\n",
              "      box-shadow: 0px 1px 3px 1px rgba(0, 0, 0, 0.15);\n",
              "      filter: drop-shadow(0px 1px 2px rgba(0, 0, 0, 0.3));\n",
              "      fill: #FFFFFF;\n",
              "    }\n",
              "  </style>\n",
              "\n",
              "    <script>\n",
              "      const buttonEl =\n",
              "        document.querySelector('#df-0b8b4bf0-4fc5-46cb-8797-f678a10a3551 button.colab-df-convert');\n",
              "      buttonEl.style.display =\n",
              "        google.colab.kernel.accessAllowed ? 'block' : 'none';\n",
              "\n",
              "      async function convertToInteractive(key) {\n",
              "        const element = document.querySelector('#df-0b8b4bf0-4fc5-46cb-8797-f678a10a3551');\n",
              "        const dataTable =\n",
              "          await google.colab.kernel.invokeFunction('convertToInteractive',\n",
              "                                                    [key], {});\n",
              "        if (!dataTable) return;\n",
              "\n",
              "        const docLinkHtml = 'Like what you see? Visit the ' +\n",
              "          '<a target=\"_blank\" href=https://colab.research.google.com/notebooks/data_table.ipynb>data table notebook</a>'\n",
              "          + ' to learn more about interactive tables.';\n",
              "        element.innerHTML = '';\n",
              "        dataTable['output_type'] = 'display_data';\n",
              "        await google.colab.output.renderOutput(dataTable, element);\n",
              "        const docLink = document.createElement('div');\n",
              "        docLink.innerHTML = docLinkHtml;\n",
              "        element.appendChild(docLink);\n",
              "      }\n",
              "    </script>\n",
              "  </div>\n",
              "\n",
              "\n",
              "    <div id=\"df-76a41b57-2b44-4163-a8b9-5f1581fc40ad\">\n",
              "      <button class=\"colab-df-quickchart\" onclick=\"quickchart('df-76a41b57-2b44-4163-a8b9-5f1581fc40ad')\"\n",
              "                title=\"Suggest charts\"\n",
              "                style=\"display:none;\">\n",
              "\n",
              "<svg xmlns=\"http://www.w3.org/2000/svg\" height=\"24px\"viewBox=\"0 0 24 24\"\n",
              "     width=\"24px\">\n",
              "    <g>\n",
              "        <path d=\"M19 3H5c-1.1 0-2 .9-2 2v14c0 1.1.9 2 2 2h14c1.1 0 2-.9 2-2V5c0-1.1-.9-2-2-2zM9 17H7v-7h2v7zm4 0h-2V7h2v10zm4 0h-2v-4h2v4z\"/>\n",
              "    </g>\n",
              "</svg>\n",
              "      </button>\n",
              "\n",
              "<style>\n",
              "  .colab-df-quickchart {\n",
              "      --bg-color: #E8F0FE;\n",
              "      --fill-color: #1967D2;\n",
              "      --hover-bg-color: #E2EBFA;\n",
              "      --hover-fill-color: #174EA6;\n",
              "      --disabled-fill-color: #AAA;\n",
              "      --disabled-bg-color: #DDD;\n",
              "  }\n",
              "\n",
              "  [theme=dark] .colab-df-quickchart {\n",
              "      --bg-color: #3B4455;\n",
              "      --fill-color: #D2E3FC;\n",
              "      --hover-bg-color: #434B5C;\n",
              "      --hover-fill-color: #FFFFFF;\n",
              "      --disabled-bg-color: #3B4455;\n",
              "      --disabled-fill-color: #666;\n",
              "  }\n",
              "\n",
              "  .colab-df-quickchart {\n",
              "    background-color: var(--bg-color);\n",
              "    border: none;\n",
              "    border-radius: 50%;\n",
              "    cursor: pointer;\n",
              "    display: none;\n",
              "    fill: var(--fill-color);\n",
              "    height: 32px;\n",
              "    padding: 0;\n",
              "    width: 32px;\n",
              "  }\n",
              "\n",
              "  .colab-df-quickchart:hover {\n",
              "    background-color: var(--hover-bg-color);\n",
              "    box-shadow: 0 1px 2px rgba(60, 64, 67, 0.3), 0 1px 3px 1px rgba(60, 64, 67, 0.15);\n",
              "    fill: var(--button-hover-fill-color);\n",
              "  }\n",
              "\n",
              "  .colab-df-quickchart-complete:disabled,\n",
              "  .colab-df-quickchart-complete:disabled:hover {\n",
              "    background-color: var(--disabled-bg-color);\n",
              "    fill: var(--disabled-fill-color);\n",
              "    box-shadow: none;\n",
              "  }\n",
              "\n",
              "  .colab-df-spinner {\n",
              "    border: 2px solid var(--fill-color);\n",
              "    border-color: transparent;\n",
              "    border-bottom-color: var(--fill-color);\n",
              "    animation:\n",
              "      spin 1s steps(1) infinite;\n",
              "  }\n",
              "\n",
              "  @keyframes spin {\n",
              "    0% {\n",
              "      border-color: transparent;\n",
              "      border-bottom-color: var(--fill-color);\n",
              "      border-left-color: var(--fill-color);\n",
              "    }\n",
              "    20% {\n",
              "      border-color: transparent;\n",
              "      border-left-color: var(--fill-color);\n",
              "      border-top-color: var(--fill-color);\n",
              "    }\n",
              "    30% {\n",
              "      border-color: transparent;\n",
              "      border-left-color: var(--fill-color);\n",
              "      border-top-color: var(--fill-color);\n",
              "      border-right-color: var(--fill-color);\n",
              "    }\n",
              "    40% {\n",
              "      border-color: transparent;\n",
              "      border-right-color: var(--fill-color);\n",
              "      border-top-color: var(--fill-color);\n",
              "    }\n",
              "    60% {\n",
              "      border-color: transparent;\n",
              "      border-right-color: var(--fill-color);\n",
              "    }\n",
              "    80% {\n",
              "      border-color: transparent;\n",
              "      border-right-color: var(--fill-color);\n",
              "      border-bottom-color: var(--fill-color);\n",
              "    }\n",
              "    90% {\n",
              "      border-color: transparent;\n",
              "      border-bottom-color: var(--fill-color);\n",
              "    }\n",
              "  }\n",
              "</style>\n",
              "\n",
              "      <script>\n",
              "        async function quickchart(key) {\n",
              "          const quickchartButtonEl =\n",
              "            document.querySelector('#' + key + ' button');\n",
              "          quickchartButtonEl.disabled = true;  // To prevent multiple clicks.\n",
              "          quickchartButtonEl.classList.add('colab-df-spinner');\n",
              "          try {\n",
              "            const charts = await google.colab.kernel.invokeFunction(\n",
              "                'suggestCharts', [key], {});\n",
              "          } catch (error) {\n",
              "            console.error('Error during call to suggestCharts:', error);\n",
              "          }\n",
              "          quickchartButtonEl.classList.remove('colab-df-spinner');\n",
              "          quickchartButtonEl.classList.add('colab-df-quickchart-complete');\n",
              "        }\n",
              "        (() => {\n",
              "          let quickchartButtonEl =\n",
              "            document.querySelector('#df-76a41b57-2b44-4163-a8b9-5f1581fc40ad button');\n",
              "          quickchartButtonEl.style.display =\n",
              "            google.colab.kernel.accessAllowed ? 'block' : 'none';\n",
              "        })();\n",
              "      </script>\n",
              "    </div>\n",
              "\n",
              "    </div>\n",
              "  </div>\n"
            ],
            "application/vnd.google.colaboratory.intrinsic+json": {
              "type": "dataframe",
              "variable_name": "features"
            }
          },
          "metadata": {},
          "execution_count": 13
        }
      ],
      "source": [
        "print(\n",
        "    \"The selected parameters are:\",\n",
        "    \", \".join([titles[i] for i in [0, 1, 5, 7, 8, 10, 11]]),\n",
        ")\n",
        "# 选择一些features， 并且对features进行归一化\n",
        "selected_features = [feature_keys[i] for i in [0, 1, 5, 7, 8, 10, 11]]\n",
        "features = df[selected_features]\n",
        "features.index = df[date_time_key]\n",
        "features.head()\n",
        "\n",
        "features = normalize(features.values, train_split) # 使用traindata的mean， std进行归一化\n",
        "features = pd.DataFrame(features)\n",
        "features.head()"
      ]
    },
    {
      "cell_type": "code",
      "source": [
        "# 把数据分割成训练集和验证集\n",
        "train_data = features.loc[0 : train_split - 1]\n",
        "val_data = features.loc[train_split:]"
      ],
      "metadata": {
        "id": "1mo4ZOuERtf5"
      },
      "execution_count": 14,
      "outputs": []
    },
    {
      "cell_type": "markdown",
      "metadata": {
        "id": "-T29kT92sQ__"
      },
      "source": [
        "# Training dataset\n",
        "\n",
        "The training dataset labels starts from the 792nd observation (720 + 72)."
      ]
    },
    {
      "cell_type": "code",
      "execution_count": 16,
      "metadata": {
        "id": "SeNreOY7sQ__"
      },
      "outputs": [],
      "source": [
        "start = past + future # 720+72\n",
        "end = start + train_split\n",
        "\n",
        "x_train = train_data[[i for i in range(7)]].values #使用所有的特征作为历史数据\n",
        "y_train = features.iloc[start:end][[1]]  #只使用temp作为目标label"
      ]
    },
    {
      "cell_type": "code",
      "source": [
        "x_train.shape"
      ],
      "metadata": {
        "id": "2j0TYm-9Ul5L",
        "outputId": "fb2cb05f-dc65-4d92-a7ec-8066cd4d3944",
        "colab": {
          "base_uri": "https://localhost:8080/"
        }
      },
      "execution_count": 17,
      "outputs": [
        {
          "output_type": "execute_result",
          "data": {
            "text/plain": [
              "(300693, 7)"
            ]
          },
          "metadata": {},
          "execution_count": 17
        }
      ]
    },
    {
      "cell_type": "markdown",
      "source": [
        "这里人家是需要720个数据，预测72个数据点, 而且它要求sample rate是6\n",
        "- 第一个样本就是0, 6, 12, 18, 720 -> 720, 720+1*6, 720+12*6\n",
        "- 第二个样本就是1, 7, 13, 19, 721 -> 721, 721+1*6, 721+12*6"
      ],
      "metadata": {
        "id": "C6YRxbQFVWwS"
      }
    },
    {
      "cell_type": "markdown",
      "metadata": {
        "id": "aGieqsTssQ__"
      },
      "source": [
        "The `timeseries_dataset_from_array` function takes in a sequence of data-points gathered at\n",
        "equal intervals, along with time series parameters such as length of the\n",
        "sequences/windows, spacing between two sequence/windows, etc., to produce batches of\n",
        "sub-timeseries inputs and targets sampled from the main timeseries."
      ]
    },
    {
      "cell_type": "code",
      "execution_count": 19,
      "metadata": {
        "id": "1WmwOaEEsQ__"
      },
      "outputs": [],
      "source": [
        "sequence_length = int(past / step)\n",
        "\n",
        "dataset_train = keras.preprocessing.timeseries_dataset_from_array(\n",
        "    x_train,\n",
        "    y_train,\n",
        "    sequence_length=sequence_length,\n",
        "    sampling_rate=step,\n",
        "    batch_size=batch_size,\n",
        ")"
      ]
    },
    {
      "cell_type": "code",
      "source": [],
      "metadata": {
        "id": "1UGytJwDYEAd"
      },
      "execution_count": null,
      "outputs": []
    },
    {
      "cell_type": "code",
      "source": [
        "for batch in dataset_train.take(2):\n",
        "  inputs, targets = batch\n",
        "  print(inputs.shape)\n",
        "  print(targets.shape)\n",
        "  # print(inputs[0])\n",
        "  # print(targets[0])"
      ],
      "metadata": {
        "id": "S-nZXxFjXMQz",
        "outputId": "b64a90ea-007f-4834-fc89-27ed1eaf4478",
        "colab": {
          "base_uri": "https://localhost:8080/"
        }
      },
      "execution_count": 24,
      "outputs": [
        {
          "output_type": "stream",
          "name": "stdout",
          "text": [
            "(256, 120, 7)\n",
            "(256, 1)\n",
            "(256, 120, 7)\n",
            "(256, 1)\n"
          ]
        }
      ]
    },
    {
      "cell_type": "markdown",
      "metadata": {
        "id": "Xza8mRzxsRAA"
      },
      "source": [
        "## Validation dataset\n",
        "\n",
        "The validation dataset must not contain the last 792 rows as we won't have label data for\n",
        "those records, hence 792 must be subtracted from the end of the data.\n",
        "\n",
        "The validation label dataset must start from 792 after train_split, hence we must add\n",
        "past + future (792) to label_start."
      ]
    },
    {
      "cell_type": "code",
      "execution_count": 8,
      "metadata": {
        "colab": {
          "base_uri": "https://localhost:8080/"
        },
        "id": "hK7ONhITsRAA",
        "outputId": "23349c56-25ea-4204-c061-895261c0aa93"
      },
      "outputs": [
        {
          "output_type": "stream",
          "name": "stdout",
          "text": [
            "Input shape: (256, 120, 7)\n",
            "Target shape: (256, 1)\n"
          ]
        }
      ],
      "source": [
        "x_end = len(val_data) - past - future\n",
        "\n",
        "label_start = train_split + past + future\n",
        "\n",
        "x_val = val_data.iloc[:x_end][[i for i in range(7)]].values\n",
        "y_val = features.iloc[label_start:][[1]]\n",
        "\n",
        "dataset_val = keras.preprocessing.timeseries_dataset_from_array(\n",
        "    x_val,\n",
        "    y_val,\n",
        "    sequence_length=sequence_length,\n",
        "    sampling_rate=step,\n",
        "    batch_size=batch_size,\n",
        ")\n",
        "\n",
        "\n",
        "for batch in dataset_train.take(1):\n",
        "    inputs, targets = batch\n",
        "\n",
        "print(\"Input shape:\", inputs.numpy().shape)\n",
        "print(\"Target shape:\", targets.numpy().shape)"
      ]
    },
    {
      "cell_type": "markdown",
      "metadata": {
        "id": "QAERf8aosRAA"
      },
      "source": [
        "## Training"
      ]
    },
    {
      "cell_type": "code",
      "execution_count": 9,
      "metadata": {
        "colab": {
          "base_uri": "https://localhost:8080/",
          "height": 232
        },
        "id": "hT2Kw5DWsRAA",
        "outputId": "1ad83fe8-9551-42af-bc94-89dfb0cbf60b"
      },
      "outputs": [
        {
          "output_type": "display_data",
          "data": {
            "text/plain": [
              "\u001b[1mModel: \"functional\"\u001b[0m\n"
            ],
            "text/html": [
              "<pre style=\"white-space:pre;overflow-x:auto;line-height:normal;font-family:Menlo,'DejaVu Sans Mono',consolas,'Courier New',monospace\"><span style=\"font-weight: bold\">Model: \"functional\"</span>\n",
              "</pre>\n"
            ]
          },
          "metadata": {}
        },
        {
          "output_type": "display_data",
          "data": {
            "text/plain": [
              "┏━━━━━━━━━━━━━━━━━━━━━━━━━━━━━━━━━┳━━━━━━━━━━━━━━━━━━━━━━━━┳━━━━━━━━━━━━━━━┓\n",
              "┃\u001b[1m \u001b[0m\u001b[1mLayer (type)                   \u001b[0m\u001b[1m \u001b[0m┃\u001b[1m \u001b[0m\u001b[1mOutput Shape          \u001b[0m\u001b[1m \u001b[0m┃\u001b[1m \u001b[0m\u001b[1m      Param #\u001b[0m\u001b[1m \u001b[0m┃\n",
              "┡━━━━━━━━━━━━━━━━━━━━━━━━━━━━━━━━━╇━━━━━━━━━━━━━━━━━━━━━━━━╇━━━━━━━━━━━━━━━┩\n",
              "│ input_layer (\u001b[38;5;33mInputLayer\u001b[0m)        │ (\u001b[38;5;45mNone\u001b[0m, \u001b[38;5;34m120\u001b[0m, \u001b[38;5;34m7\u001b[0m)         │             \u001b[38;5;34m0\u001b[0m │\n",
              "├─────────────────────────────────┼────────────────────────┼───────────────┤\n",
              "│ lstm (\u001b[38;5;33mLSTM\u001b[0m)                     │ (\u001b[38;5;45mNone\u001b[0m, \u001b[38;5;34m32\u001b[0m)             │         \u001b[38;5;34m5,120\u001b[0m │\n",
              "├─────────────────────────────────┼────────────────────────┼───────────────┤\n",
              "│ dense (\u001b[38;5;33mDense\u001b[0m)                   │ (\u001b[38;5;45mNone\u001b[0m, \u001b[38;5;34m1\u001b[0m)              │            \u001b[38;5;34m33\u001b[0m │\n",
              "└─────────────────────────────────┴────────────────────────┴───────────────┘\n"
            ],
            "text/html": [
              "<pre style=\"white-space:pre;overflow-x:auto;line-height:normal;font-family:Menlo,'DejaVu Sans Mono',consolas,'Courier New',monospace\">┏━━━━━━━━━━━━━━━━━━━━━━━━━━━━━━━━━┳━━━━━━━━━━━━━━━━━━━━━━━━┳━━━━━━━━━━━━━━━┓\n",
              "┃<span style=\"font-weight: bold\"> Layer (type)                    </span>┃<span style=\"font-weight: bold\"> Output Shape           </span>┃<span style=\"font-weight: bold\">       Param # </span>┃\n",
              "┡━━━━━━━━━━━━━━━━━━━━━━━━━━━━━━━━━╇━━━━━━━━━━━━━━━━━━━━━━━━╇━━━━━━━━━━━━━━━┩\n",
              "│ input_layer (<span style=\"color: #0087ff; text-decoration-color: #0087ff\">InputLayer</span>)        │ (<span style=\"color: #00d7ff; text-decoration-color: #00d7ff\">None</span>, <span style=\"color: #00af00; text-decoration-color: #00af00\">120</span>, <span style=\"color: #00af00; text-decoration-color: #00af00\">7</span>)         │             <span style=\"color: #00af00; text-decoration-color: #00af00\">0</span> │\n",
              "├─────────────────────────────────┼────────────────────────┼───────────────┤\n",
              "│ lstm (<span style=\"color: #0087ff; text-decoration-color: #0087ff\">LSTM</span>)                     │ (<span style=\"color: #00d7ff; text-decoration-color: #00d7ff\">None</span>, <span style=\"color: #00af00; text-decoration-color: #00af00\">32</span>)             │         <span style=\"color: #00af00; text-decoration-color: #00af00\">5,120</span> │\n",
              "├─────────────────────────────────┼────────────────────────┼───────────────┤\n",
              "│ dense (<span style=\"color: #0087ff; text-decoration-color: #0087ff\">Dense</span>)                   │ (<span style=\"color: #00d7ff; text-decoration-color: #00d7ff\">None</span>, <span style=\"color: #00af00; text-decoration-color: #00af00\">1</span>)              │            <span style=\"color: #00af00; text-decoration-color: #00af00\">33</span> │\n",
              "└─────────────────────────────────┴────────────────────────┴───────────────┘\n",
              "</pre>\n"
            ]
          },
          "metadata": {}
        },
        {
          "output_type": "display_data",
          "data": {
            "text/plain": [
              "\u001b[1m Total params: \u001b[0m\u001b[38;5;34m5,153\u001b[0m (20.13 KB)\n"
            ],
            "text/html": [
              "<pre style=\"white-space:pre;overflow-x:auto;line-height:normal;font-family:Menlo,'DejaVu Sans Mono',consolas,'Courier New',monospace\"><span style=\"font-weight: bold\"> Total params: </span><span style=\"color: #00af00; text-decoration-color: #00af00\">5,153</span> (20.13 KB)\n",
              "</pre>\n"
            ]
          },
          "metadata": {}
        },
        {
          "output_type": "display_data",
          "data": {
            "text/plain": [
              "\u001b[1m Trainable params: \u001b[0m\u001b[38;5;34m5,153\u001b[0m (20.13 KB)\n"
            ],
            "text/html": [
              "<pre style=\"white-space:pre;overflow-x:auto;line-height:normal;font-family:Menlo,'DejaVu Sans Mono',consolas,'Courier New',monospace\"><span style=\"font-weight: bold\"> Trainable params: </span><span style=\"color: #00af00; text-decoration-color: #00af00\">5,153</span> (20.13 KB)\n",
              "</pre>\n"
            ]
          },
          "metadata": {}
        },
        {
          "output_type": "display_data",
          "data": {
            "text/plain": [
              "\u001b[1m Non-trainable params: \u001b[0m\u001b[38;5;34m0\u001b[0m (0.00 B)\n"
            ],
            "text/html": [
              "<pre style=\"white-space:pre;overflow-x:auto;line-height:normal;font-family:Menlo,'DejaVu Sans Mono',consolas,'Courier New',monospace\"><span style=\"font-weight: bold\"> Non-trainable params: </span><span style=\"color: #00af00; text-decoration-color: #00af00\">0</span> (0.00 B)\n",
              "</pre>\n"
            ]
          },
          "metadata": {}
        }
      ],
      "source": [
        "inputs = keras.layers.Input(shape=(inputs.shape[1], inputs.shape[2]))\n",
        "lstm_out = keras.layers.LSTM(32)(inputs)\n",
        "outputs = keras.layers.Dense(1)(lstm_out)\n",
        "\n",
        "model = keras.Model(inputs=inputs, outputs=outputs)\n",
        "model.compile(optimizer=keras.optimizers.Adam(learning_rate=learning_rate), loss=\"mse\")\n",
        "model.summary()"
      ]
    },
    {
      "cell_type": "markdown",
      "metadata": {
        "id": "Hkwpo7oKsRAA"
      },
      "source": [
        "We'll use the `ModelCheckpoint` callback to regularly save checkpoints, and\n",
        "the `EarlyStopping` callback to interrupt training when the validation loss\n",
        "is not longer improving."
      ]
    },
    {
      "cell_type": "code",
      "execution_count": 10,
      "metadata": {
        "colab": {
          "base_uri": "https://localhost:8080/"
        },
        "id": "1SHjx8B_sRAB",
        "outputId": "49770c44-2e0c-4923-9d37-cba10940a352"
      },
      "outputs": [
        {
          "output_type": "stream",
          "name": "stdout",
          "text": [
            "Epoch 1/10\n",
            "\u001b[1m1171/1172\u001b[0m \u001b[32m━━━━━━━━━━━━━━━━━━━\u001b[0m\u001b[37m━\u001b[0m \u001b[1m0s\u001b[0m 29ms/step - loss: 0.3365\n",
            "Epoch 1: val_loss improved from inf to 0.15177, saving model to model_checkpoint.weights.h5\n",
            "\u001b[1m1172/1172\u001b[0m \u001b[32m━━━━━━━━━━━━━━━━━━━━\u001b[0m\u001b[37m\u001b[0m \u001b[1m49s\u001b[0m 40ms/step - loss: 0.3362 - val_loss: 0.1518\n",
            "Epoch 2/10\n",
            "\u001b[1m1171/1172\u001b[0m \u001b[32m━━━━━━━━━━━━━━━━━━━\u001b[0m\u001b[37m━\u001b[0m \u001b[1m0s\u001b[0m 29ms/step - loss: 0.1444\n",
            "Epoch 2: val_loss improved from 0.15177 to 0.14791, saving model to model_checkpoint.weights.h5\n",
            "\u001b[1m1172/1172\u001b[0m \u001b[32m━━━━━━━━━━━━━━━━━━━━\u001b[0m\u001b[37m\u001b[0m \u001b[1m55s\u001b[0m 46ms/step - loss: 0.1443 - val_loss: 0.1479\n",
            "Epoch 3/10\n",
            "\u001b[1m1171/1172\u001b[0m \u001b[32m━━━━━━━━━━━━━━━━━━━\u001b[0m\u001b[37m━\u001b[0m \u001b[1m0s\u001b[0m 28ms/step - loss: 0.1234\n",
            "Epoch 3: val_loss did not improve from 0.14791\n",
            "\u001b[1m1172/1172\u001b[0m \u001b[32m━━━━━━━━━━━━━━━━━━━━\u001b[0m\u001b[37m\u001b[0m \u001b[1m45s\u001b[0m 38ms/step - loss: 0.1234 - val_loss: 0.1493\n",
            "Epoch 4/10\n",
            "\u001b[1m1170/1172\u001b[0m \u001b[32m━━━━━━━━━━━━━━━━━━━\u001b[0m\u001b[37m━\u001b[0m \u001b[1m0s\u001b[0m 29ms/step - loss: 0.1200\n",
            "Epoch 4: val_loss improved from 0.14791 to 0.14571, saving model to model_checkpoint.weights.h5\n",
            "\u001b[1m1172/1172\u001b[0m \u001b[32m━━━━━━━━━━━━━━━━━━━━\u001b[0m\u001b[37m\u001b[0m \u001b[1m46s\u001b[0m 39ms/step - loss: 0.1200 - val_loss: 0.1457\n",
            "Epoch 5/10\n",
            "\u001b[1m1171/1172\u001b[0m \u001b[32m━━━━━━━━━━━━━━━━━━━\u001b[0m\u001b[37m━\u001b[0m \u001b[1m0s\u001b[0m 29ms/step - loss: 0.1166\n",
            "Epoch 5: val_loss improved from 0.14571 to 0.14553, saving model to model_checkpoint.weights.h5\n",
            "\u001b[1m1172/1172\u001b[0m \u001b[32m━━━━━━━━━━━━━━━━━━━━\u001b[0m\u001b[37m\u001b[0m \u001b[1m46s\u001b[0m 39ms/step - loss: 0.1166 - val_loss: 0.1455\n",
            "Epoch 6/10\n",
            "\u001b[1m1170/1172\u001b[0m \u001b[32m━━━━━━━━━━━━━━━━━━━\u001b[0m\u001b[37m━\u001b[0m \u001b[1m0s\u001b[0m 28ms/step - loss: 0.1141\n",
            "Epoch 6: val_loss improved from 0.14553 to 0.14298, saving model to model_checkpoint.weights.h5\n",
            "\u001b[1m1172/1172\u001b[0m \u001b[32m━━━━━━━━━━━━━━━━━━━━\u001b[0m\u001b[37m\u001b[0m \u001b[1m45s\u001b[0m 38ms/step - loss: 0.1141 - val_loss: 0.1430\n",
            "Epoch 7/10\n",
            "\u001b[1m1170/1172\u001b[0m \u001b[32m━━━━━━━━━━━━━━━━━━━\u001b[0m\u001b[37m━\u001b[0m \u001b[1m0s\u001b[0m 29ms/step - loss: 0.1115\n",
            "Epoch 7: val_loss improved from 0.14298 to 0.14059, saving model to model_checkpoint.weights.h5\n",
            "\u001b[1m1172/1172\u001b[0m \u001b[32m━━━━━━━━━━━━━━━━━━━━\u001b[0m\u001b[37m\u001b[0m \u001b[1m46s\u001b[0m 39ms/step - loss: 0.1115 - val_loss: 0.1406\n",
            "Epoch 8/10\n",
            "\u001b[1m1172/1172\u001b[0m \u001b[32m━━━━━━━━━━━━━━━━━━━━\u001b[0m\u001b[37m\u001b[0m \u001b[1m0s\u001b[0m 29ms/step - loss: 0.1099\n",
            "Epoch 8: val_loss improved from 0.14059 to 0.13787, saving model to model_checkpoint.weights.h5\n",
            "\u001b[1m1172/1172\u001b[0m \u001b[32m━━━━━━━━━━━━━━━━━━━━\u001b[0m\u001b[37m\u001b[0m \u001b[1m54s\u001b[0m 46ms/step - loss: 0.1098 - val_loss: 0.1379\n",
            "Epoch 9/10\n",
            "\u001b[1m1170/1172\u001b[0m \u001b[32m━━━━━━━━━━━━━━━━━━━\u001b[0m\u001b[37m━\u001b[0m \u001b[1m0s\u001b[0m 28ms/step - loss: 0.1085\n",
            "Epoch 9: val_loss improved from 0.13787 to 0.13088, saving model to model_checkpoint.weights.h5\n",
            "\u001b[1m1172/1172\u001b[0m \u001b[32m━━━━━━━━━━━━━━━━━━━━\u001b[0m\u001b[37m\u001b[0m \u001b[1m53s\u001b[0m 45ms/step - loss: 0.1085 - val_loss: 0.1309\n",
            "Epoch 10/10\n",
            "\u001b[1m1171/1172\u001b[0m \u001b[32m━━━━━━━━━━━━━━━━━━━\u001b[0m\u001b[37m━\u001b[0m \u001b[1m0s\u001b[0m 29ms/step - loss: 0.1061\n",
            "Epoch 10: val_loss improved from 0.13088 to 0.12768, saving model to model_checkpoint.weights.h5\n",
            "\u001b[1m1172/1172\u001b[0m \u001b[32m━━━━━━━━━━━━━━━━━━━━\u001b[0m\u001b[37m\u001b[0m \u001b[1m54s\u001b[0m 46ms/step - loss: 0.1061 - val_loss: 0.1277\n"
          ]
        }
      ],
      "source": [
        "path_checkpoint = \"model_checkpoint.weights.h5\"\n",
        "es_callback = keras.callbacks.EarlyStopping(monitor=\"val_loss\", min_delta=0, patience=5)\n",
        "\n",
        "modelckpt_callback = keras.callbacks.ModelCheckpoint(\n",
        "    monitor=\"val_loss\",\n",
        "    filepath=path_checkpoint,\n",
        "    verbose=1,\n",
        "    save_weights_only=True,\n",
        "    save_best_only=True,\n",
        ")\n",
        "\n",
        "history = model.fit(\n",
        "    dataset_train,\n",
        "    epochs=epochs,\n",
        "    validation_data=dataset_val,\n",
        "    callbacks=[es_callback, modelckpt_callback],\n",
        ")"
      ]
    },
    {
      "cell_type": "markdown",
      "metadata": {
        "id": "QzuWW4ScsRAB"
      },
      "source": [
        "We can visualize the loss with the function below. After one point, the loss stops\n",
        "decreasing."
      ]
    },
    {
      "cell_type": "code",
      "execution_count": 11,
      "metadata": {
        "colab": {
          "base_uri": "https://localhost:8080/",
          "height": 472
        },
        "id": "QH_DfS5osRAB",
        "outputId": "e3203960-ae86-4d42-fdd7-a2e54365889a"
      },
      "outputs": [
        {
          "output_type": "display_data",
          "data": {
            "text/plain": [
              "<Figure size 640x480 with 1 Axes>"
            ],
            "image/png": "[encoded data removed]"
          },
          "metadata": {}
        }
      ],
      "source": [
        "\n",
        "def visualize_loss(history, title):\n",
        "    loss = history.history[\"loss\"]\n",
        "    val_loss = history.history[\"val_loss\"]\n",
        "    epochs = range(len(loss))\n",
        "    plt.figure()\n",
        "    plt.plot(epochs, loss, \"b\", label=\"Training loss\")\n",
        "    plt.plot(epochs, val_loss, \"r\", label=\"Validation loss\")\n",
        "    plt.title(title)\n",
        "    plt.xlabel(\"Epochs\")\n",
        "    plt.ylabel(\"Loss\")\n",
        "    plt.legend()\n",
        "    plt.show()\n",
        "\n",
        "\n",
        "visualize_loss(history, \"Training and Validation Loss\")"
      ]
    },
    {
      "cell_type": "markdown",
      "metadata": {
        "id": "aBEqv4BlsRAB"
      },
      "source": [
        "## Prediction\n",
        "\n",
        "The trained model above is now able to make predictions for 5 sets of values from\n",
        "validation set."
      ]
    },
    {
      "cell_type": "code",
      "execution_count": 12,
      "metadata": {
        "colab": {
          "base_uri": "https://localhost:8080/",
          "height": 1000
        },
        "id": "ocmFaCRasRAB",
        "outputId": "607ecca0-3b4f-4259-8d77-c64852122132"
      },
      "outputs": [
        {
          "output_type": "stream",
          "name": "stdout",
          "text": [
            "\u001b[1m8/8\u001b[0m \u001b[32m━━━━━━━━━━━━━━━━━━━━\u001b[0m\u001b[37m\u001b[0m \u001b[1m0s\u001b[0m 6ms/step  \n"
          ]
        },
        {
          "output_type": "display_data",
          "data": {
            "text/plain": [
              "<Figure size 640x480 with 1 Axes>"
            ],
            "image/png": "[encoded data removed]"
          },
          "metadata": {}
        },
        {
          "output_type": "stream",
          "name": "stdout",
          "text": [
            "\u001b[1m8/8\u001b[0m \u001b[32m━━━━━━━━━━━━━━━━━━━━\u001b[0m\u001b[37m\u001b[0m \u001b[1m0s\u001b[0m 5ms/step \n"
          ]
        },
        {
          "output_type": "display_data",
          "data": {
            "text/plain": [
              "<Figure size 640x480 with 1 Axes>"
            ],
            "image/png": "[encoded data removed]"
          },
          "metadata": {}
        },
        {
          "output_type": "stream",
          "name": "stdout",
          "text": [
            "\u001b[1m8/8\u001b[0m \u001b[32m━━━━━━━━━━━━━━━━━━━━\u001b[0m\u001b[37m\u001b[0m \u001b[1m0s\u001b[0m 5ms/step \n"
          ]
        },
        {
          "output_type": "display_data",
          "data": {
            "text/plain": [
              "<Figure size 640x480 with 1 Axes>"
            ],
            "image/png": "[encoded data removed]"
          },
          "metadata": {}
        },
        {
          "output_type": "stream",
          "name": "stdout",
          "text": [
            "\u001b[1m8/8\u001b[0m \u001b[32m━━━━━━━━━━━━━━━━━━━━\u001b[0m\u001b[37m\u001b[0m \u001b[1m0s\u001b[0m 6ms/step \n"
          ]
        },
        {
          "output_type": "display_data",
          "data": {
            "text/plain": [
              "<Figure size 640x480 with 1 Axes>"
            ],
            "image/png": "[encoded data removed]"
          },
          "metadata": {}
        },
        {
          "output_type": "stream",
          "name": "stdout",
          "text": [
            "\u001b[1m8/8\u001b[0m \u001b[32m━━━━━━━━━━━━━━━━━━━━\u001b[0m\u001b[37m\u001b[0m \u001b[1m0s\u001b[0m 5ms/step \n"
          ]
        },
        {
          "output_type": "display_data",
          "data": {
            "text/plain": [
              "<Figure size 640x480 with 1 Axes>"
            ],
            "image/png": "[encoded data removed]"
          },
          "metadata": {}
        }
      ],
      "source": [
        "\n",
        "def show_plot(plot_data, delta, title):\n",
        "    labels = [\"History\", \"True Future\", \"Model Prediction\"]\n",
        "    marker = [\".-\", \"rx\", \"go\"]\n",
        "    time_steps = list(range(-(plot_data[0].shape[0]), 0))\n",
        "    if delta:\n",
        "        future = delta\n",
        "    else:\n",
        "        future = 0\n",
        "\n",
        "    plt.title(title)\n",
        "    for i, val in enumerate(plot_data):\n",
        "        if i:\n",
        "            plt.plot(future, plot_data[i], marker[i], markersize=10, label=labels[i])\n",
        "        else:\n",
        "            plt.plot(time_steps, plot_data[i].flatten(), marker[i], label=labels[i])\n",
        "    plt.legend()\n",
        "    plt.xlim([time_steps[0], (future + 5) * 2])\n",
        "    plt.xlabel(\"Time-Step\")\n",
        "    plt.show()\n",
        "    return\n",
        "\n",
        "\n",
        "for x, y in dataset_val.take(5):\n",
        "    show_plot(\n",
        "        [x[0][:, 1].numpy(), y[0].numpy(), model.predict(x)[0]],\n",
        "        12,\n",
        "        \"Single Step Prediction\",\n",
        "    )"
      ]
    }
  ],
  "metadata": {
    "accelerator": "GPU",
    "colab": {
      "name": "timeseries_weather_forecasting",
      "provenance": []
    },
    "kernelspec": {
      "display_name": "Python 3",
      "language": "python",
      "name": "python3"
    },
    "language_info": {
      "codemirror_mode": {
        "name": "ipython",
        "version": 3
      },
      "file_extension": ".py",
      "mimetype": "text/x-python",
      "name": "python",
      "nbconvert_exporter": "python",
      "pygments_lexer": "ipython3",
      "version": "3.7.0"
    }
  },
  "nbformat": 4,
  "nbformat_minor": 0
}